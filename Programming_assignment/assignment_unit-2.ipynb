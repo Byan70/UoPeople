{
 "cells": [
  {
   "cell_type": "markdown",
   "metadata": {},
   "source": [
    "# Programming Assignment Unit 2"
   ]
  },
  {
   "cell_type": "markdown",
   "metadata": {},
   "source": [
    "## Part 1"
   ]
  },
  {
   "cell_type": "code",
   "execution_count": 18,
   "metadata": {},
   "outputs": [
    {
     "name": "stdout",
     "output_type": "stream",
     "text": [
      "The circumference of a cirecle is:  43.98226\n",
      "The circumference of a cirecle is:  87.96452\n",
      "The circumference of a cirecle is:  37.070762\n"
     ]
    }
   ],
   "source": [
    "\"\"\"The circumference of a circle is calculated by 2πr, where π = 3.14159 (rounded to five decimal places). Write a function called print_circum that takes an argument for the circle’s radius and prints the circle's circumference. \n",
    "\n",
    "Call your print_circum function three times with different values for radius. \n",
    "\n",
    "Include the following in your part 1 submission: \n",
    "\n",
    "The code for your print_circum function. \n",
    "The inputs and outputs to three calls of your print_circum. \"\"\"\n",
    "\n",
    "import math # Importing  math module\n",
    "# function definition\n",
    "\n",
    "def print_circum(radius): # function taking radius as argument.\n",
    "    \n",
    "    pi = float((f\"{math.pi:.6}\")) \n",
    "    \n",
    "    # changing rounded off string to a float\n",
    "    \n",
    "    circum = 2 * pi * radius # circumference formulae expression\n",
    "    print(\"The circumference of a cirecle is: \",circum) # printing circumference\n",
    "\n",
    "\n",
    "print_circum(7) # calling a function with value 7\n",
    "print_circum(14) # calling a function with value 14\n",
    "print_circum(5.9) # calling a function with value 5.9\n",
    "\n"
   ]
  },
  {
   "cell_type": "markdown",
   "metadata": {},
   "source": [
    "\n",
    "## Part 2"
   ]
  },
  {
   "cell_type": "code",
   "execution_count": null,
   "metadata": {},
   "outputs": [],
   "source": []
  }
 ],
 "metadata": {
  "kernelspec": {
   "display_name": "Python 3",
   "language": "python",
   "name": "python3"
  },
  "language_info": {
   "codemirror_mode": {
    "name": "ipython",
    "version": 3
   },
   "file_extension": ".py",
   "mimetype": "text/x-python",
   "name": "python",
   "nbconvert_exporter": "python",
   "pygments_lexer": "ipython3",
   "version": "3.11.6"
  }
 },
 "nbformat": 4,
 "nbformat_minor": 2
}
