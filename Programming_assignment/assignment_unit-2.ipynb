{
 "cells": [
  {
   "cell_type": "markdown",
   "metadata": {},
   "source": [
    "# Programming Assignment Unit 2"
   ]
  },
  {
   "cell_type": "markdown",
   "metadata": {},
   "source": [
    "## Part 1"
   ]
  },
  {
   "cell_type": "code",
   "execution_count": 18,
   "metadata": {},
   "outputs": [
    {
     "name": "stdout",
     "output_type": "stream",
     "text": [
      "The circumference of a cirecle is:  43.98226\n",
      "The circumference of a cirecle is:  87.96452\n",
      "The circumference of a cirecle is:  37.070762\n"
     ]
    }
   ],
   "source": [
    "\"\"\"The circumference of a circle is calculated by 2πr, where π = 3.14159 (rounded to five decimal places). Write a function called print_circum that takes an argument for the circle’s radius and prints the circle's circumference. \n",
    "\n",
    "Call your print_circum function three times with different values for radius. \n",
    "\n",
    "Include the following in your part 1 submission: \n",
    "\n",
    "The code for your print_circum function. \n",
    "The inputs and outputs to three calls of your print_circum. \"\"\"\n",
    "\n",
    "import math # Importing  math module\n",
    "# function definition\n",
    "\n",
    "def print_circum(radius): # function taking radius as argument.\n",
    "    \n",
    "    pi = float((f\"{math.pi:.6}\")) \n",
    "    \n",
    "    # changing rounded off string to a float\n",
    "    \n",
    "    circum = 2 * pi * radius # circumference formulae expression\n",
    "    print(\"The circumference of a cirecle is: \",circum) # printing circumference\n",
    "\n",
    "\n",
    "print_circum(7) # calling a function with value 7\n",
    "print_circum(14) # calling a function with value 14\n",
    "print_circum(5.9) # calling a function with value 5.9\n",
    "\n"
   ]
  },
  {
   "cell_type": "markdown",
   "metadata": {},
   "source": [
    "## Explanation:\n",
    "\n",
    "## Importing the math Module:\n",
    "The import math statement brings the math module into the code. This module provides mathematical functions and constants, including pi.\n",
    "\n",
    "## Function Definition:\n",
    "The print_circum function is defined to calculate and print the circumference of a circle based on the given radius.\n",
    "\n",
    "## Setting Precision for π (pi):\n",
    "The line pi = float((f\"{math.pi:.6}\")) sets the value of pi by converting the rounded-off string representation of math.pi with 6 decimal places to a float. This is done to control the precision of the value.\n",
    "\n",
    "## Circumference Calculation:\n",
    "\n",
    "The line circum = 2 * pi * radius calculates the circumference of the circle using the formula \n",
    "\n",
    "C=2πr, where \n",
    "C is the circumference, \n",
    "\n",
    "π is the mathematical constant (pi), and \n",
    "\n",
    "r is the radius.\n",
    "\n",
    "## Printing the Result:\n",
    "The line print(\"The circumference of a circle is: \", circum) prints the calculated circumference along with a descriptive message.\n",
    "\n",
    "## Function Calls:\n",
    "The function is called three times with different radius values (7, 14, and 5.9). This demonstrates how the function can be used for circles of different sizes.\n",
    "\n",
    "**Note:**\n",
    "\n",
    "The use of f\"{math.pi:.6}\" rounds off the value of math.pi to 6 decimal places and converts it to a string. This string is then converted back to a float, effectively setting the precision of pi to 6 decimal places. This precision control might be useful in certain applications where a specific level of precision is required."
   ]
  },
  {
   "cell_type": "markdown",
   "metadata": {},
   "source": [
    "\n",
    "## Part 2"
   ]
  },
  {
   "cell_type": "code",
   "execution_count": 11,
   "metadata": {},
   "outputs": [
    {
     "name": "stdout",
     "output_type": "stream",
     "text": [
      "\n",
      "Online Store\n",
      "\n",
      "--------------------------------------------------\n",
      "Product(S)\t\t\t\t\t\tPrice\n",
      "\n",
      "Item 1\t\t\t\t\t\t\t200.0\n",
      "Item 2\t\t\t\t\t\t\t400.0\n",
      "Item 3\t\t\t\t\t\t\t600.0\n",
      "Combo 1 (Item 1 + Item 2)\t\t\t\t540.0\n",
      "Combo 2 (Item 2 + Item 3)\t\t\t\t900.0\n",
      "Combo 3 (Item 1 + Item 3)\t\t\t\t720.0\n",
      "Combo 4 (Item 1 + Item 2+Item 3)\t\t\t\t900.0\n",
      "\n",
      "--------------------------------------------------\n",
      "\n",
      "For delivery contact: 98764678899\n",
      "\n"
     ]
    }
   ],
   "source": [
    "\"\"\"Welcome to your first project.  Develop a catalog for a company. Assume that this company sells three different Items. The seller can sell individual items or a combination of any two items. A gift pack is a special combination that contains all three items. Here are some special considerations:  \n",
    "\n",
    "A. If a customer purchases individual items, he does not receive any discount.  \n",
    "B. If a customer purchases a combo pack with two unique items, he gets a 10% discount.  \n",
    "C. If the customer purchases a gift pack, he gets a 25% discount. \n",
    "\n",
    "Write a function for the above scenario. Perform the calculations in code wherever applicable.  The function should be your own creation, not copied from any other source.  The final output should be like:\n",
    "\n",
    "\n",
    "Output:\n",
    "\n",
    "Online Store\n",
    "\n",
    "\n",
    "-------------------------------------------------------\n",
    "\n",
    "Product(S)                                           Price\n",
    "\n",
    "Item 1                                               200.0\n",
    "Item 2                                               400.0\n",
    "Item 3                                               600.0\n",
    "Combo 1 ( Item 1 + 2 )                               540.0\n",
    "Combo 2 ( Item 2 +3)                                 900.0\n",
    "Combo 3 ( Item Item 1 + 3)                           720.0\n",
    "Combo 4( Item 1  + 2 + 3)                            900.0\n",
    "\n",
    "------------------------------------------------------\n",
    "\n",
    "For delivery contact: 98764678899\"\"\"\n",
    "\n",
    "\n",
    "\n",
    "def generate_catalog():\n",
    "    # Define product prices\n",
    "    item_prices = {\n",
    "        'Item 1': 200.0,\n",
    "        'Item 2': 400.0,\n",
    "        'Item 3': 600.0\n",
    "    }\n",
    "\n",
    "    # Initialize catalog with headers\n",
    "    catalog = \"\\nOnline Store\\n\\n\" + \"-\" * 50 + \"\\nProduct(S)\\t\\t\\t\\t\\t\\tPrice\\n\\n\"\n",
    "\n",
    "    # Add individual items to the catalog\n",
    "    for item, price in item_prices.items():\n",
    "        catalog += f\"{item}\\t\\t\\t\\t\\t\\t\\t{price:.1f}\\n\"\n",
    "\n",
    "    # Calculate and add combo pack prices with discounts\n",
    "    combo_prices = {\n",
    "        'Combo 1 (Item 1 + Item 2)': item_prices['Item 1'] + item_prices['Item 2'] - (0.1 * (item_prices['Item 1'] + item_prices['Item 2'])),\n",
    "        'Combo 2 (Item 2 + Item 3)': item_prices['Item 2'] + item_prices['Item 3'] - (0.1 * (item_prices['Item 2'] + item_prices['Item 3'])),\n",
    "        'Combo 3 (Item 1 + Item 3)': item_prices['Item 1'] + item_prices['Item 3'] - (0.1 * (item_prices['Item 1'] + item_prices['Item 3'])),\n",
    "        'Combo 4 (Item 1 + Item 2+Item 3)': sum(item_prices.values()) - (0.25 * sum(item_prices.values()))\n",
    "    }\n",
    "\n",
    "    for combo, price in combo_prices.items():\n",
    "        catalog += f\"{combo}\\t\\t\\t\\t{price:.1f}\\n\"\n",
    "\n",
    "    # Add footer with contact information\n",
    "    catalog += \"\\n\" + \"-\" * 50 + \"\\n\\nFor delivery contact: 98764678899\\n\"\n",
    "\n",
    "    return catalog\n",
    "\n",
    "\n",
    "# Display the generated catalog\n",
    "print(generate_catalog())\n"
   ]
  },
  {
   "cell_type": "markdown",
   "metadata": {},
   "source": [
    "\n",
    "## Function Features:\n",
    "\n",
    "### Dynamic Product Pricing:\n",
    "The function uses a dictionary (item_prices) to store the prices of individual items. This allows for easy modification or extension of the product catalog.\n",
    "\n",
    "### Catalog Formatting:\n",
    "The function dynamically generates a catalog string with proper formatting, including headers and columns, making it visually appealing.\n",
    "\n",
    "### Discount Calculation:\n",
    "Discounts are applied based on the given rules (10% for combo packs, 25% for the gift pack). The function calculates discounted prices for combo packs and the gift pack.\n",
    "\n",
    "### Flexible Combo and Gift Pack Definitions:\n",
    "Combo packs and the gift pack are defined as dictionary entries (combo_prices). This allows for easy modification or addition of different combinations.\n",
    "\n",
    "### Contact Information Footer:\n",
    "The function includes a footer with contact information for delivery, providing essential details for customers.\n",
    "\n",
    "\n",
    "### Dynamic Catalog Generation:\n",
    "The function uses a loop to iterate through the 'item_prices' dictionary, adding each item and its price to the catalog string.\n",
    "\n",
    "### Combo Pack Calculations:\n",
    "Combo pack prices are calculated based on the sum of individual item prices, and the appropriate discount is applied. This is done using arithmetic operations.\n",
    "\n",
    "### Gift Pack Calculation:\n",
    "The gift pack price is calculated by taking the sum of all individual item prices and applying a 25% discount.\n",
    "\n",
    "### String Formatting:\n",
    "The catalog string is built by concatenating formatted strings for each product entry. This includes the product name and its corresponding price.\n",
    "\n",
    "### Contact Information:\n",
    "The function appends a footer to the catalog string, providing contact information for delivery.\n",
    "\n",
    "### Output Explanation:\n",
    "The output is a formatted catalog that displays individual items, various combo packs, and a gift pack along with their respective prices. The prices reflect any applicable discounts based on the purchase rules outlined in the problem statement. The contact information for delivery is displayed at the end of the catalog."
   ]
  },
  {
   "cell_type": "markdown",
   "metadata": {},
   "source": [
    "## Resources\n",
    "\n",
    "[Python function to create a catalog with different pricing rules](https://www.shecodes.io/athena/74098-python-function-to-create-a-catalog-with-different-pricing-rules)\n",
    "\n",
    "\n"
   ]
  },
  {
   "cell_type": "markdown",
   "metadata": {},
   "source": [
    "## Author\n",
    "\n",
    "**Brian Achieng**"
   ]
  },
  {
   "cell_type": "code",
   "execution_count": null,
   "metadata": {},
   "outputs": [],
   "source": []
  }
 ],
 "metadata": {
  "kernelspec": {
   "display_name": "Python 3",
   "language": "python",
   "name": "python3"
  },
  "language_info": {
   "codemirror_mode": {
    "name": "ipython",
    "version": 3
   },
   "file_extension": ".py",
   "mimetype": "text/x-python",
   "name": "python",
   "nbconvert_exporter": "python",
   "pygments_lexer": "ipython3",
   "version": "3.11.6"
  }
 },
 "nbformat": 4,
 "nbformat_minor": 2
}
