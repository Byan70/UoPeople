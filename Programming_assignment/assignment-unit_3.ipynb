{
 "cells": [
  {
   "cell_type": "markdown",
   "metadata": {},
   "source": [
    "## **Programming assignment unit 3**\n",
    "\n",
    "Q 1. The following is the countdown function copied from Section 5.8 of your textbook. \n",
    " \n",
    "def countdown(n): \n",
    "     if n <= 0: \n",
    "          print('Blastoff!') \n",
    "     else: \n",
    "          print(n) \n",
    "          countdown(n-1) \n",
    "\n",
    "Write a new recursive function countup that expects a negative argument and counts “up” from that number. Output from running the function should look something like this: \n",
    "\n",
    " >>> countup(-3) \n",
    "\n",
    "-3 \n",
    "\n",
    "-2 \n",
    "\n",
    "-1 \n",
    "\n",
    "Blastoff! \n",
    "\n",
    "\n",
    "Write a Python program that gets a number using keyboard input. (Remember to use input for Python 3 but raw_input for Python 2.) \n",
    "\n"
   ]
  },
  {
   "cell_type": "code",
   "execution_count": 1,
   "metadata": {},
   "outputs": [
    {
     "name": "stdout",
     "output_type": "stream",
     "text": [
      "3\n",
      "2\n",
      "1\n",
      "Blastoff!\n"
     ]
    }
   ],
   "source": [
    "def countdown(n): # method defination\n",
    "    \n",
    "    if n <= 0:\n",
    "        print('Blastoff!')\n",
    "    else:\n",
    "        print(n)\n",
    "        countdown(n - 1)\n",
    "\n",
    "def countup(n):\n",
    "    if n >= 0:\n",
    "        print('Blastoff!')\n",
    "    else:\n",
    "        print(n)\n",
    "        countup(n + 1)\n",
    "\n",
    "# Get a number from the user\n",
    "user_input = int(input(\"Enter a number: \"))\n",
    "\n",
    "# calling functions\n",
    "if user_input > 0:\n",
    "    countdown(user_input)\n",
    "elif user_input < 0:\n",
    "    countup(user_input)\n",
    "else:\n",
    "    \n",
    "    print(\"Zero entered. Choosing countdown.\")\n",
    "    countdown(user_input)\n"
   ]
  },
  {
   "cell_type": "markdown",
   "metadata": {},
   "source": [
    "## Explanation\n",
    "\n",
    "The given Python code defines two recursive functions, countdown and countup, each serving the purpose of printing a sequence of numbers or a \"Blastoff!\" message depending on whether the input is positive or negative. The countdown function recursively counts down from the provided integer n to zero, printing the current value at each step and culminating in the message 'Blastoff!' when n becomes non-positive. Conversely, the countup function counts up from a negative input to zero, echoing a similar recursive logic but printing 'Blastoff!' when n becomes non-negative. The program then solicits user input, converting it to an integer, and subsequently calls the appropriate function based on whether the input is positive, negative, or zero, offering an interactive demonstration of recursive functions and decision structures in Python.\n",
    "\n",
    "The code is an illustrative example of recursion and user interaction, demonstrating the versatility of Python's functions and control flow structures. It provides a clear and interactive way for users to witness the countdown, countup, or termination messages based on their input, contributing to the understanding of recursive function calls and conditional statements in the Python programming language."
   ]
  },
  {
   "cell_type": "markdown",
   "metadata": {},
   "source": [
    "**Q 2**: You are developing a program that performs a division operation on two numbers provided by the user. However, there is a situation where a runtime error can occur due to a division by zero. To help junior developers learn about error handling in expressions and conditions, you want to create a program deliberately containing this error and guide them in diagnosing and fixing it."
   ]
  },
  {
   "cell_type": "code",
   "execution_count": 2,
   "metadata": {},
   "outputs": [
    {
     "name": "stdout",
     "output_type": "stream",
     "text": [
      "Result of division: 2.0\n"
     ]
    }
   ],
   "source": [
    "#  numbers from the user\n",
    "num1 = float(input(\"Enter the first number: \"))\n",
    "\n",
    "num2 = float(input(\"Enter the second number: \"))\n",
    "\n",
    "try:\n",
    "    \n",
    "    quotient = num1 / num2 #  diivision expression\n",
    "    \n",
    "    print(f\"Result of division: {quotient}\")\n",
    "\n",
    "except ZeroDivisionError:\n",
    "    \n",
    "    \n",
    "    # Handling division zero error\n",
    "    \n",
    "    print(\"Error: Division by zero is not allowed.\")\n"
   ]
  },
  {
   "cell_type": "markdown",
   "metadata": {},
   "source": [
    "## **Explanation**\n",
    "\n",
    "\n",
    "The provided Python code aims to perform a division operation on two numbers entered by the user. The program begins by using the float(input(>>>)) statements to prompt the user for two numerical inputs, converting them to floating-point numbers for more versatile arithmetic. Subsequently, the code enters a try block where it attempts to execute the division operation num1 / num2. If successful, it prints the result using an f-string. However, if a ZeroDivisionError occurs during the division attempt, the program transitions to the except block, where it handles this specific error. Inside the except block, it prints an error message indicating that division by zero is not allowed, preventing the program from crashing and providing a user-friendly message in case of an invalid division attempt.\n",
    "\n",
    "The code employs a try-except block to perform a division operation between two user-inputted numbers while gracefully handling the possibility of a division by zero error. This approach enhances the robustness of the program by preventing runtime errors and offering informative feedback to the user in case of an invalid arithmetic operation."
   ]
  },
  {
   "cell_type": "markdown",
   "metadata": {},
   "source": []
  }
 ],
 "metadata": {
  "kernelspec": {
   "display_name": "Python 3",
   "language": "python",
   "name": "python3"
  },
  "language_info": {
   "name": "python",
   "version": "3.11.6"
  }
 },
 "nbformat": 4,
 "nbformat_minor": 2
}
