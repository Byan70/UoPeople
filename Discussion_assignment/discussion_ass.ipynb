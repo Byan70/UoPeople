{
 "cells": [
  {
   "cell_type": "code",
   "execution_count": 15,
   "metadata": {},
   "outputs": [
    {
     "name": "stdout",
     "output_type": "stream",
     "text": [
      "Hello Brian\n"
     ]
    }
   ],
   "source": [
    "# Example 1\n",
    "\"\"\" Define a function that takes an argument.\n",
    "Call the function. Identify what code is the argument and what code is the parameter.\n",
    "\"\"\"\n",
    "\n",
    "# function definition\n",
    "def greeting(name):\n",
    "\n",
    "    \n",
    "    print(\"Hello \" + name)\n",
    "greeting(\"Brian\")"
   ]
  },
  {
   "cell_type": "markdown",
   "metadata": {},
   "source": [
    "'def' is a python keyword used to define a function.\n",
    "\n",
    "'greeting' is fuction name\n",
    "\n",
    "'name' is the parameter function\n",
    "\n",
    "'Boss' is the argument passed to the fuction when calling it."
   ]
  },
  {
   "cell_type": "code",
   "execution_count": 14,
   "metadata": {},
   "outputs": [
    {
     "name": "stdout",
     "output_type": "stream",
     "text": [
      "Hello Joseph\n",
      "Hello Adams Joseph\n",
      "Hello Evaline Evaline Evaline \n"
     ]
    }
   ],
   "source": [
    "# Example 2\n",
    "\n",
    "\"\"\"Example 2:\n",
    "Call your function from Example 1 three times with different kinds of arguments: a value, a variable, and an expression. \n",
    "Identify which kind of argument is which. \"\"\"\n",
    "\n",
    "\n",
    "name2 = \"Joseph\"\n",
    "\n",
    "greeting(name2)\n",
    "\n",
    "name3 = \"Adams \"\n",
    "\n",
    "greeting(name3 + name2) # #Expression\n",
    "\n",
    "name4 = \"Evaline \"\n",
    "\n",
    "greeting(name4*3) # Expression\n",
    "\n"
   ]
  },
  {
   "cell_type": "markdown",
   "metadata": {},
   "source": [
    "## Explanation\n",
    "\n",
    "- name2, name3, name4 are variables that strores names.\n",
    "\n",
    "- The variables are used as argument when calling the function.\n",
    "\n",
    "- 'Joseph', 'Adams' and 'Evaline' are varible values.\n",
    "\n",
    "- '+' operator used above is used for string concatenation.\n",
    "\n",
    "- '*' operator used is used to repeat variable(name4) value three times."
   ]
  },
  {
   "cell_type": "code",
   "execution_count": 27,
   "metadata": {},
   "outputs": [
    {
     "name": "stdout",
     "output_type": "stream",
     "text": [
      "This is a global variable\n"
     ]
    },
    {
     "data": {
      "text/plain": [
       "33"
      ]
     },
     "execution_count": 27,
     "metadata": {},
     "output_type": "execute_result"
    }
   ],
   "source": [
    "\"\"\"\n",
    "Construct a function with a local variable. \n",
    "Show what happens when you try to use that variable outside the function. \n",
    "Explain the results.\n",
    "\"\"\"\n",
    "scope = \"This is a global variable\"\n",
    "\n",
    "def my_function(local_var):\n",
    "    \n",
    "    age = 30 # variable\n",
    "    \n",
    "    print(scope)\n",
    "    \n",
    "    return local_var + age # return value\n",
    "\n",
    "\n",
    "\n",
    "    \n",
    "my_function(3)\n",
    "\n",
    "\n",
    "\n"
   ]
  },
  {
   "cell_type": "markdown",
   "metadata": {},
   "source": [
    "## Explanation\n",
    "\n",
    "- 'scope' defines a global variable.\n",
    "\n",
    "- 'my_function' takes the parameter 'local_var'\n",
    "\n",
    "\n",
    "- Inside the fuction, there's a local variable named 'age'\n",
    "\n",
    "- And the function prints the value of the global variable 'scope'\n",
    "\n",
    "- Finally, the function returns the sum of the 'local_var' and 'age', resulting to '33'\n",
    "\n",
    "- The function is then called with the argument '3'"
   ]
  },
  {
   "cell_type": "code",
   "execution_count": 34,
   "metadata": {},
   "outputs": [
    {
     "name": "stdout",
     "output_type": "stream",
     "text": [
      "Nairobi is my city\n"
     ]
    },
    {
     "ename": "NameError",
     "evalue": "name 'city' is not defined",
     "output_type": "error",
     "traceback": [
      "\u001b[0;31m---------------------------------------------------------------------------\u001b[0m",
      "\u001b[0;31mNameError\u001b[0m                                 Traceback (most recent call last)",
      "\u001b[1;32m/home/bryan/Downloads/Programs/My_channel/UoPeople/discussion_ass.ipynb Cell 10\u001b[0m line \u001b[0;36m2\n\u001b[1;32m     <a href='vscode-notebook-cell:/home/bryan/Downloads/Programs/My_channel/UoPeople/discussion_ass.ipynb#X21sZmlsZQ%3D%3D?line=16'>17</a>\u001b[0m     city \u001b[39m=\u001b[39m \u001b[39m\"\u001b[39m\u001b[39mNew York\u001b[39m\u001b[39m\"\u001b[39m\n\u001b[1;32m     <a href='vscode-notebook-cell:/home/bryan/Downloads/Programs/My_channel/UoPeople/discussion_ass.ipynb#X21sZmlsZQ%3D%3D?line=18'>19</a>\u001b[0m my_city(\u001b[39m'\u001b[39m\u001b[39mNairobi\u001b[39m\u001b[39m'\u001b[39m)\u001b[39m# passing argument\u001b[39;00m\n\u001b[0;32m---> <a href='vscode-notebook-cell:/home/bryan/Downloads/Programs/My_channel/UoPeople/discussion_ass.ipynb#X21sZmlsZQ%3D%3D?line=20'>21</a>\u001b[0m \u001b[39mprint\u001b[39m(city)\n",
      "\u001b[0;31mNameError\u001b[0m: name 'city' is not defined"
     ]
    }
   ],
   "source": [
    "\"\"\"Example 4:\n",
    "\n",
    "Construct a function that takes an argument.\n",
    "\n",
    "Give the function parameter a unique name. \n",
    "\n",
    "Show what happens when you try to use that parameter name outside the function.\n",
    "\n",
    "Explain the results.\n",
    "\n",
    "\"\"\"\n",
    "\n",
    "# defining a function\n",
    "def my_city(city):\n",
    "    \n",
    "    print(city + \" is my city\") # displaying message\n",
    "    city = \"New York\"\n",
    "    \n",
    "my_city('Nairobi')# passing argument\n",
    "\n",
    "print(city)"
   ]
  },
  {
   "cell_type": "markdown",
   "metadata": {},
   "source": [
    "## Explanation\n",
    "\n",
    "- 'my_city' that takes a parameter named 'city'. \n",
    "\n",
    "- 'Inside' the function, it prints a message using the value of the 'city' parameter and then attempts to reassign the variable city to the string \"New York.\"\n",
    "\n",
    "- 'Finally', the function is called with the argument 'Nairobi', and an attempt is made to print the value of the variable city outside the function.\n",
    "\n",
    "- The last line attempts to print the value of the variable city outside the function. \n",
    "\n",
    "- However, there's an error because city is not defined in the global scope. \n",
    "\n",
    "- The city variable inside the function is local to that function and does not affect the global variable with the same name.\n"
   ]
  },
  {
   "cell_type": "code",
   "execution_count": 37,
   "metadata": {},
   "outputs": [
    {
     "name": "stdout",
     "output_type": "stream",
     "text": [
      "7\n",
      "16\n"
     ]
    }
   ],
   "source": [
    "\"\"\"\n",
    "Example 5:\n",
    "\n",
    "Show what happens when a variable defined outside a function has the same name as a local variable inside a function. \n",
    "\n",
    "Explain what happens to the value of each variable as the program runs. \n",
    "\n",
    "\"\"\"\n",
    "\n",
    "x = 16 # global variable\n",
    "\n",
    "def my_number():\n",
    "    \n",
    "    x = 7 # local variable\n",
    "    print(x)\n",
    "my_number()\n",
    "\n",
    "print(x)"
   ]
  },
  {
   "cell_type": "markdown",
   "metadata": {},
   "source": [
    "## Explanation\n",
    "\n",
    "- In this code, there's a global variable 'x' with the value '16', and a function named 'my_number' is defined.\n",
    "\n",
    "- Inside the function, there's a local variable 'x' with the value '7'.\n",
    "\n",
    "- The function prints the value of the local variable x. After calling the function, it prints the value of the global variable 'x'.\n",
    "\n",
    "- If you create a variable with the same name inside a function, this variable will be local, and can only be used inside the function. \n",
    "\n",
    "- The global variable with the same name will remain as it was, global and with the original value.\n",
    "\n"
   ]
  },
  {
   "cell_type": "markdown",
   "metadata": {},
   "source": []
  }
 ],
 "metadata": {
  "kernelspec": {
   "display_name": "Python 3 (ipykernel)",
   "language": "python",
   "name": "python3"
  },
  "language_info": {
   "codemirror_mode": {
    "name": "ipython",
    "version": 3
   },
   "file_extension": ".py",
   "mimetype": "text/x-python",
   "name": "python",
   "nbconvert_exporter": "python",
   "pygments_lexer": "ipython3",
   "version": "3.11.6"
  }
 },
 "nbformat": 4,
 "nbformat_minor": 2
}
